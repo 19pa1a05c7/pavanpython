{
  "nbformat": 4,
  "nbformat_minor": 0,
  "metadata": {
    "colab": {
      "name": "Untitled4.ipynb",
      "provenance": [],
      "collapsed_sections": [],
      "toc_visible": true,
      "include_colab_link": true
    },
    "kernelspec": {
      "name": "python3",
      "display_name": "Python 3"
    }
  },
  "cells": [
    {
      "cell_type": "markdown",
      "metadata": {
        "id": "view-in-github",
        "colab_type": "text"
      },
      "source": [
        "<a href=\"https://colab.research.google.com/github/19pa1a05c7/pavanpython/blob/master/Untitled4.ipynb\" target=\"_parent\"><img src=\"https://colab.research.google.com/assets/colab-badge.svg\" alt=\"Open In Colab\"/></a>"
      ]
    },
    {
      "cell_type": "code",
      "metadata": {
        "id": "xuiX7B6vmDHu",
        "colab_type": "code",
        "outputId": "13a238e9-c60a-4985-8311-e82b98cb9a4e",
        "colab": {
          "base_uri": "https://localhost:8080/",
          "height": 104
        }
      },
      "source": [
        "import numpy as np\n",
        "import pandas as pd\n",
        "import matplotlib.pyplot as plt\n",
        "import seaborn as sns\n",
        "flipkart_products=pd.read_csv(\"flipkart_com-ecommerce_sample.csv.zip\")\n",
        "flipkart_products.columns"
      ],
      "execution_count": 8,
      "outputs": [
        {
          "output_type": "execute_result",
          "data": {
            "text/plain": [
              "Index(['uniq_id', 'crawl_timestamp', 'product_url', 'product_name',\n",
              "       'product_category_tree', 'pid', 'retail_price', 'discounted_price',\n",
              "       'image', 'is_FK_Advantage_product', 'description', 'product_rating',\n",
              "       'overall_rating', 'brand', 'product_specifications'],\n",
              "      dtype='object')"
            ]
          },
          "metadata": {
            "tags": []
          },
          "execution_count": 8
        }
      ]
    },
    {
      "cell_type": "markdown",
      "metadata": {
        "id": "jPiaxmCDR7Cd",
        "colab_type": "text"
      },
      "source": [
        "import all the required modules i,e..,numpy,pandas matplotlib.pyplot and read the data of ghe uploaded csv file into a variable we given using pd.read_csv() method and know the columns using df.columns method\n",
        "\n"
      ]
    },
    {
      "cell_type": "markdown",
      "metadata": {
        "id": "BFK4rnV5S9TB",
        "colab_type": "text"
      },
      "source": [
        "columns and their meanings are:\n",
        "\n",
        "*   \"uniq_id\":unique identification number id given to each product\n",
        "* \"crawl_timestamp\":date and time at which the event occured\n",
        "* \"product_url\":url given to each product\n",
        "*\"product_name\":name of the given product\n",
        "*\"product_category_tree\":flowchart of product category\n",
        "*\"pid\":unique values\n",
        "* \"retail_price\":price of the product without discount\n",
        "* \"discounted_price\":price of the product with discount\n",
        "*\"image\":unique urls for the product image\n",
        "*\"is_FK_Advantage_product\":boolean value\n",
        "*\"description\":describes the product\n",
        "*\"product_rating\":rating given by customers\n",
        "*\"overall_rating\":total rating\n",
        "*\"brand\":brand of the given product\n",
        "*\"product_specifications\":features of the product\n",
        "\n",
        "**questions**\n",
        "\n",
        "\n",
        "* what are the datatypes of each column and sub         category?\n",
        "* what is the variance of numerical data present in the given data?\n",
        "*is the data has Nan values?how many Nan values in corresponding columns?\n",
        "*how u replaced the Nan values in the corresponding columns?\n",
        "*how many outliers are there in your scatterplot data?\n",
        "*what is the correlation of variables in scatterplot?\n",
        "*how the boolean histogram is skewed?\n",
        "* Is the flipkart is advantage product?\n",
        "\n",
        "\n",
        "\n",
        "\n",
        "\n",
        "\n",
        "\n",
        "\n",
        "\n",
        "\n",
        "\n",
        "\n",
        "\n"
      ]
    },
    {
      "cell_type": "markdown",
      "metadata": {
        "id": "Nm3q-evMS3fh",
        "colab_type": "text"
      },
      "source": [
        ""
      ]
    },
    {
      "cell_type": "code",
      "metadata": {
        "id": "BjBbzTmQn9Fb",
        "colab_type": "code",
        "outputId": "a740140e-ccea-44ff-8259-5aff1dda6bc6",
        "colab": {
          "base_uri": "https://localhost:8080/",
          "height": 295
        }
      },
      "source": [
        "flipkart_products.dtypes\n",
        "\n"
      ],
      "execution_count": 0,
      "outputs": [
        {
          "output_type": "execute_result",
          "data": {
            "text/plain": [
              "uniq_id                     object\n",
              "crawl_timestamp             object\n",
              "product_url                 object\n",
              "product_name                object\n",
              "product_category_tree       object\n",
              "pid                         object\n",
              "retail_price               float64\n",
              "discounted_price           float64\n",
              "image                       object\n",
              "is_FK_Advantage_product       bool\n",
              "description                 object\n",
              "product_rating              object\n",
              "overall_rating              object\n",
              "brand                       object\n",
              "product_specifications      object\n",
              "dtype: object"
            ]
          },
          "metadata": {
            "tags": []
          },
          "execution_count": 9
        }
      ]
    },
    {
      "cell_type": "markdown",
      "metadata": {
        "id": "Hnl2Yd8CTebc",
        "colab_type": "text"
      },
      "source": [
        "now find the data types of each column of the dataframe using the function df.dtypes.\n"
      ]
    },
    {
      "cell_type": "markdown",
      "metadata": {
        "id": "5d6GB0pKT2w3",
        "colab_type": "text"
      },
      "source": [
        "columns which are object datatype have integers,float values,string literals and missing values as their data.columns having float64 as datatype have float values as their data and bool have boolean values as their data\n"
      ]
    },
    {
      "cell_type": "markdown",
      "metadata": {
        "id": "0rbRzCkD4mGO",
        "colab_type": "text"
      },
      "source": [
        ""
      ]
    },
    {
      "cell_type": "markdown",
      "metadata": {
        "id": "K1fX5D656-x1",
        "colab_type": "text"
      },
      "source": [
        "find the statistical data of the dataframe\n"
      ]
    },
    {
      "cell_type": "code",
      "metadata": {
        "id": "V1H3abgg7DwH",
        "colab_type": "code",
        "colab": {
          "base_uri": "https://localhost:8080/",
          "height": 294
        },
        "outputId": "e601199e-3e2e-4918-e292-da2a86a2aec1"
      },
      "source": [
        "flipkart_products.describe()"
      ],
      "execution_count": 33,
      "outputs": [
        {
          "output_type": "execute_result",
          "data": {
            "text/html": [
              "<div>\n",
              "<style scoped>\n",
              "    .dataframe tbody tr th:only-of-type {\n",
              "        vertical-align: middle;\n",
              "    }\n",
              "\n",
              "    .dataframe tbody tr th {\n",
              "        vertical-align: top;\n",
              "    }\n",
              "\n",
              "    .dataframe thead th {\n",
              "        text-align: right;\n",
              "    }\n",
              "</style>\n",
              "<table border=\"1\" class=\"dataframe\">\n",
              "  <thead>\n",
              "    <tr style=\"text-align: right;\">\n",
              "      <th></th>\n",
              "      <th>retail_price</th>\n",
              "      <th>discounted_price</th>\n",
              "    </tr>\n",
              "  </thead>\n",
              "  <tbody>\n",
              "    <tr>\n",
              "      <th>count</th>\n",
              "      <td>19922.000000</td>\n",
              "      <td>19922.000000</td>\n",
              "    </tr>\n",
              "    <tr>\n",
              "      <th>mean</th>\n",
              "      <td>2979.206104</td>\n",
              "      <td>1973.401767</td>\n",
              "    </tr>\n",
              "    <tr>\n",
              "      <th>std</th>\n",
              "      <td>9009.639341</td>\n",
              "      <td>7333.586040</td>\n",
              "    </tr>\n",
              "    <tr>\n",
              "      <th>min</th>\n",
              "      <td>35.000000</td>\n",
              "      <td>35.000000</td>\n",
              "    </tr>\n",
              "    <tr>\n",
              "      <th>25%</th>\n",
              "      <td>666.000000</td>\n",
              "      <td>350.000000</td>\n",
              "    </tr>\n",
              "    <tr>\n",
              "      <th>50%</th>\n",
              "      <td>1040.000000</td>\n",
              "      <td>550.000000</td>\n",
              "    </tr>\n",
              "    <tr>\n",
              "      <th>75%</th>\n",
              "      <td>1999.000000</td>\n",
              "      <td>999.000000</td>\n",
              "    </tr>\n",
              "    <tr>\n",
              "      <th>max</th>\n",
              "      <td>571230.000000</td>\n",
              "      <td>571230.000000</td>\n",
              "    </tr>\n",
              "  </tbody>\n",
              "</table>\n",
              "</div>"
            ],
            "text/plain": [
              "        retail_price  discounted_price\n",
              "count   19922.000000      19922.000000\n",
              "mean     2979.206104       1973.401767\n",
              "std      9009.639341       7333.586040\n",
              "min        35.000000         35.000000\n",
              "25%       666.000000        350.000000\n",
              "50%      1040.000000        550.000000\n",
              "75%      1999.000000        999.000000\n",
              "max    571230.000000     571230.000000"
            ]
          },
          "metadata": {
            "tags": []
          },
          "execution_count": 33
        }
      ]
    },
    {
      "cell_type": "markdown",
      "metadata": {
        "id": "VJLQztok7xe2",
        "colab_type": "text"
      },
      "source": [
        "x is the standard deviation of retail_price\n",
        "y is the standard deviation of discounted_price\n",
        "\n",
        "1.   x is the standard deviation of retail_price \n",
        "2.   y is the standard deviation of discounted_price\n",
        "\n"
      ]
    },
    {
      "cell_type": "code",
      "metadata": {
        "id": "b-qUyoTA4oZC",
        "colab_type": "code",
        "colab": {
          "base_uri": "https://localhost:8080/",
          "height": 35
        },
        "outputId": "be4f12f2-0da6-4b2b-c054-bd869b0ef3e6"
      },
      "source": [
        "x=9009.639341\n",
        "var_retail_price=x**2\n",
        "y=733.586040\n",
        "var_discounted_price=y**2\n",
        "var_retail_price,var_discounted_price"
      ],
      "execution_count": 35,
      "outputs": [
        {
          "output_type": "execute_result",
          "data": {
            "text/plain": [
              "(81173601.05489491, 538148.4780828817)"
            ]
          },
          "metadata": {
            "tags": []
          },
          "execution_count": 35
        }
      ]
    },
    {
      "cell_type": "markdown",
      "metadata": {
        "id": "J39oeqkwWuyC",
        "colab_type": "text"
      },
      "source": [
        "# **finding total Nan values**"
      ]
    },
    {
      "cell_type": "markdown",
      "metadata": {
        "id": "A6KzWDZTVImj",
        "colab_type": "text"
      },
      "source": [
        "now find total number of nan values or missing values in each row using the function df.isna().sum() "
      ]
    },
    {
      "cell_type": "code",
      "metadata": {
        "id": "7dt--XNyFMpS",
        "colab_type": "code",
        "outputId": "d49f943f-aceb-42ce-eab5-6d6350e3a32f",
        "colab": {
          "base_uri": "https://localhost:8080/",
          "height": 295
        }
      },
      "source": [
        "flipkart_products.isna().sum()"
      ],
      "execution_count": 0,
      "outputs": [
        {
          "output_type": "execute_result",
          "data": {
            "text/plain": [
              "uniq_id                       0\n",
              "crawl_timestamp               0\n",
              "product_url                   0\n",
              "product_name                  0\n",
              "product_category_tree         0\n",
              "pid                           0\n",
              "retail_price                 78\n",
              "discounted_price             78\n",
              "image                         3\n",
              "is_FK_Advantage_product       0\n",
              "description                   2\n",
              "product_rating                0\n",
              "overall_rating                0\n",
              "brand                      5864\n",
              "product_specifications       14\n",
              "dtype: int64"
            ]
          },
          "metadata": {
            "tags": []
          },
          "execution_count": 11
        }
      ]
    },
    {
      "cell_type": "markdown",
      "metadata": {
        "id": "K26V7pAMVgYr",
        "colab_type": "text"
      },
      "source": [
        "now replace the missing values or nan values in each column with their appropriate central tendency values.we normally replace the nan values numerical data column with mean or median and categorical data with their mode.we find mean of the dataframe using df[\"column name\"].mean() and median using df[\"column name\"].median()and mode using df[\"column name\"].value_counts()."
      ]
    },
    {
      "cell_type": "code",
      "metadata": {
        "id": "jXj5HPtMYWYc",
        "colab_type": "code",
        "colab": {}
      },
      "source": [
        ""
      ],
      "execution_count": 0,
      "outputs": []
    },
    {
      "cell_type": "markdown",
      "metadata": {
        "id": "uAOvZWP5We11",
        "colab_type": "text"
      },
      "source": [
        "here we replace retail_price nan values with mean as this is a numerical data and check number of nan values\n",
        "\n"
      ]
    },
    {
      "cell_type": "markdown",
      "metadata": {
        "id": "j6xfXUiCY7zg",
        "colab_type": "text"
      },
      "source": [
        "# **cleaning the data**"
      ]
    },
    {
      "cell_type": "code",
      "metadata": {
        "id": "NJkJ0K3NFY2r",
        "colab_type": "code",
        "outputId": "6861c47b-ec01-4f0b-9b00-2eb3a4e1495b",
        "colab": {
          "base_uri": "https://localhost:8080/",
          "height": 295
        }
      },
      "source": [
        "flipkart_products[\"retail_price\"].fillna(flipkart_products[\"retail_price\"].mean(),inplace=True)\n",
        "flipkart_products.isna().sum()"
      ],
      "execution_count": 0,
      "outputs": [
        {
          "output_type": "execute_result",
          "data": {
            "text/plain": [
              "uniq_id                       0\n",
              "crawl_timestamp               0\n",
              "product_url                   0\n",
              "product_name                  0\n",
              "product_category_tree         0\n",
              "pid                           0\n",
              "retail_price                  0\n",
              "discounted_price             78\n",
              "image                         3\n",
              "is_FK_Advantage_product       0\n",
              "description                   2\n",
              "product_rating                0\n",
              "overall_rating                0\n",
              "brand                      5864\n",
              "product_specifications       14\n",
              "dtype: int64"
            ]
          },
          "metadata": {
            "tags": []
          },
          "execution_count": 5
        }
      ]
    },
    {
      "cell_type": "markdown",
      "metadata": {
        "id": "uNZlob-kZFRb",
        "colab_type": "text"
      },
      "source": [
        "now replace the missing or nan values of discounted_price data with their mean and check the remaining nan values\n",
        " "
      ]
    },
    {
      "cell_type": "code",
      "metadata": {
        "id": "0rq5p9f7GuZz",
        "colab_type": "code",
        "outputId": "298a47cf-51f4-4078-bd1f-941b3c331df8",
        "colab": {
          "base_uri": "https://localhost:8080/",
          "height": 295
        }
      },
      "source": [
        "flipkart_products[\"discounted_price\"].fillna(flipkart_products[\"discounted_price\"].mean(),inplace=True)\n",
        "flipkart_products.isna().sum()"
      ],
      "execution_count": 0,
      "outputs": [
        {
          "output_type": "execute_result",
          "data": {
            "text/plain": [
              "uniq_id                       0\n",
              "crawl_timestamp               0\n",
              "product_url                   0\n",
              "product_name                  0\n",
              "product_category_tree         0\n",
              "pid                           0\n",
              "retail_price                  0\n",
              "discounted_price              0\n",
              "image                         3\n",
              "is_FK_Advantage_product       0\n",
              "description                   2\n",
              "product_rating                0\n",
              "overall_rating                0\n",
              "brand                      5864\n",
              "product_specifications       14\n",
              "dtype: int64"
            ]
          },
          "metadata": {
            "tags": []
          },
          "execution_count": 14
        }
      ]
    },
    {
      "cell_type": "markdown",
      "metadata": {
        "id": "eA6mjxgBZabj",
        "colab_type": "text"
      },
      "source": [
        "as the image is categorical data find it's mode "
      ]
    },
    {
      "cell_type": "code",
      "metadata": {
        "id": "423drroeHdJJ",
        "colab_type": "code",
        "outputId": "7f0a2356-3f58-4c07-912a-59044a778529",
        "colab": {
          "base_uri": "https://localhost:8080/",
          "height": 245
        }
      },
      "source": [
        "flipkart_products[\"image\"].value_counts()"
      ],
      "execution_count": 0,
      "outputs": [
        {
          "output_type": "execute_result",
          "data": {
            "text/plain": [
              "[\"http://img6a.flixcart.com/image/car-mat/m/t/a/hyundai-xcent-anti-slip-noodle-car-floor-mats-set-of-5-red-1100x1100-imaecjxhb9xhpyrc.jpeg\", \"http://img5a.flixcart.com/image/car-mat/m/t/a/hyundai-xcent-anti-slip-noodle-car-floor-mats-set-of-5-red-original-imaecjxhb9xhpyrc.jpeg\"]                                                                                                                          45\n",
              "[\"http://img5a.flixcart.com/image/car-mat/z/z/9/skoda-rapid-anti-slip-noodle-car-floor-mats-set-of-5-grey-allure-1100x1100-imaecjxhbzaqrmge.jpeg\", \"http://img6a.flixcart.com/image/car-mat/z/z/9/skoda-rapid-anti-slip-noodle-car-floor-mats-set-of-5-grey-allure-original-imaecjxhbzaqrmge.jpeg\"]                                                                                                              37\n",
              "[\"http://img6a.flixcart.com/image/car-mat/e/k/5/fiat-punto-evo-rubber-mats-transparent-allure-auto-cm-730-1100x1100-imaecjxkskucjg65.jpeg\", \"http://img6a.flixcart.com/image/car-mat/e/k/5/fiat-punto-evo-rubber-mats-transparent-allure-auto-cm-730-original-imaecjxkskucjg65.jpeg\"]                                                                                                                            37\n",
              "[\"http://img5a.flixcart.com/image/car-mat/m/z/f/mahindra-scorpio-anti-slip-noodle-car-floor-mats-set-of-5-green-1100x1100-imaecjxhhkhuzvak.jpeg\", \"http://img5a.flixcart.com/image/car-mat/m/z/f/mahindra-scorpio-anti-slip-noodle-car-floor-mats-set-of-5-green-original-imaecjxhhkhuzvak.jpeg\"]                                                                                                                37\n",
              "[\"http://img5a.flixcart.com/image/car-mat/w/f/t/maruti-celerio-odourless-car-floor-foot-mats-5-pcs-set-blue-1100x1100-imaecqmdvzhfruzs.jpeg\", \"http://img5a.flixcart.com/image/car-mat/w/f/t/maruti-celerio-odourless-car-floor-foot-mats-5-pcs-set-blue-original-imaecqmdvzhfruzs.jpeg\"]                                                                                                                        37\n",
              "                                                                                                                                                                                                                                                                                                                                                                                                                 ..\n",
              "[\"http://img5a.flixcart.com/image/cases-covers/back-cover/9/z/z/thelostpuppy-704paintedredipair2m-original-imae9xmbz9utzfyh.jpeg\"]                                                                                                                                                                                                                                                                                1\n",
              "[\"http://img5a.flixcart.com/image/bath-essential-oil/h/m/r/allin-exporters-50-ginger-oil-co2-extract-1100x1100-imaegwugy7cgzazs.jpeg\", \"http://img6a.flixcart.com/image/bath-essential-oil/h/m/r/allin-exporters-50-ginger-oil-co2-extract-original-imaegwugy7cgzazs.jpeg\"]                                                                                                                                       1\n",
              "[\"http://img6a.flixcart.com/image/showpiece-figurine/c/c/w/gg01-aaditri28-1100x1100-imaecvgfmka7gqnr.jpeg\", \"http://img6a.flixcart.com/image/showpiece-figurine/c/c/w/gg01-aaditri28-original-imaecvgfmka7gqnr.jpeg\"]                                                                                                                                                                                             1\n",
              "[\"http://img5a.flixcart.com/image/bangle-bracelet-armlet/7/7/v/b2035-2-8-vaishali-bindi-and-bangles-4-original-imae2fhxpyxgmxyg.jpeg\", \"http://img6a.flixcart.com/image/bangle-bracelet-armlet/7/7/v/b2035-2-8-vaishali-bindi-and-bangles-4-original-imae2fhxak5esgct.jpeg\"]                                                                                                                                      1\n",
              "[\"http://img5a.flixcart.com/image/jacket/g/j/t/j114prpe-mustard-xl-original-imae25jthbjdpxcd.jpeg\", \"http://img6a.flixcart.com/image/jacket/g/j/t/j114prpe-mustard-5xl-original-imae25jtsah2gdfg.jpeg\", \"http://img5a.flixcart.com/image/jacket/g/j/t/j114prpe-mustard-5xl-original-imae25jtue4u2qpe.jpeg\", \"http://img6a.flixcart.com/image/jacket/g/j/t/j114prpe-mustard-m-original-imae25jtfqyzhytd.jpeg\"]     1\n",
              "Name: image, Length: 18589, dtype: int64"
            ]
          },
          "metadata": {
            "tags": []
          },
          "execution_count": 15
        }
      ]
    },
    {
      "cell_type": "markdown",
      "metadata": {
        "id": "S0f8WGtKZi1j",
        "colab_type": "text"
      },
      "source": [
        "now replace nan values of image data with their mode and check the number of nan values remaining"
      ]
    },
    {
      "cell_type": "code",
      "metadata": {
        "id": "6rDy6Xb8HoEI",
        "colab_type": "code",
        "outputId": "26704c2f-e73e-4b4d-c96b-4819a274fedb",
        "colab": {
          "base_uri": "https://localhost:8080/",
          "height": 295
        }
      },
      "source": [
        "flipkart_products[\"image\"].fillna(flipkart_products[\"image\"].value_counts().index[0],inplace=True)\n",
        "flipkart_products.isna().sum()"
      ],
      "execution_count": 0,
      "outputs": [
        {
          "output_type": "execute_result",
          "data": {
            "text/plain": [
              "uniq_id                       0\n",
              "crawl_timestamp               0\n",
              "product_url                   0\n",
              "product_name                  0\n",
              "product_category_tree         0\n",
              "pid                           0\n",
              "retail_price                  0\n",
              "discounted_price              0\n",
              "image                         0\n",
              "is_FK_Advantage_product       0\n",
              "description                   2\n",
              "product_rating                0\n",
              "overall_rating                0\n",
              "brand                      5864\n",
              "product_specifications       14\n",
              "dtype: int64"
            ]
          },
          "metadata": {
            "tags": []
          },
          "execution_count": 17
        }
      ]
    },
    {
      "cell_type": "markdown",
      "metadata": {
        "id": "K6CkUCXvZ6xk",
        "colab_type": "text"
      },
      "source": [
        "now replace the nan values of description and brand data with their modes and check the remaining nan values\n"
      ]
    },
    {
      "cell_type": "code",
      "metadata": {
        "id": "iuUaVoAskM7J",
        "colab_type": "code",
        "colab": {
          "base_uri": "https://localhost:8080/",
          "height": 69
        },
        "outputId": "2f3550e4-214e-452e-83c1-f8ac470f105e"
      },
      "source": [
        "flipkart_products[\"brand\"].value_counts()\n",
        "flipkart_products[\"is_FK_Advantage_product\"].value_counts()"
      ],
      "execution_count": 16,
      "outputs": [
        {
          "output_type": "execute_result",
          "data": {
            "text/plain": [
              "False    19215\n",
              "True       785\n",
              "Name: is_FK_Advantage_product, dtype: int64"
            ]
          },
          "metadata": {
            "tags": []
          },
          "execution_count": 16
        }
      ]
    },
    {
      "cell_type": "code",
      "metadata": {
        "id": "d2acIoZIJL_I",
        "colab_type": "code",
        "outputId": "b6cafeea-2cb3-4f14-80a3-b756ab1a855e",
        "colab": {
          "base_uri": "https://localhost:8080/",
          "height": 295
        }
      },
      "source": [
        "flipkart_products[\"description\"].fillna(flipkart_products[\"description\"].value_counts().index[0],inplace=True)\n",
        "flipkart_products[\"brand\"].fillna(flipkart_products[\"brand\"].value_counts().index[0],inplace=True)\n",
        "flipkart_products.isna().sum()"
      ],
      "execution_count": 0,
      "outputs": [
        {
          "output_type": "execute_result",
          "data": {
            "text/plain": [
              "uniq_id                     0\n",
              "crawl_timestamp             0\n",
              "product_url                 0\n",
              "product_name                0\n",
              "product_category_tree       0\n",
              "pid                         0\n",
              "retail_price                0\n",
              "discounted_price            0\n",
              "image                       0\n",
              "is_FK_Advantage_product     0\n",
              "description                 0\n",
              "product_rating              0\n",
              "overall_rating              0\n",
              "brand                       0\n",
              "product_specifications     14\n",
              "dtype: int64"
            ]
          },
          "metadata": {
            "tags": []
          },
          "execution_count": 19
        }
      ]
    },
    {
      "cell_type": "markdown",
      "metadata": {
        "id": "kF9o8CAGaPzr",
        "colab_type": "text"
      },
      "source": [
        "now replace the nan values of product_description data with it's mode as it is a categorical data\n",
        "and check the number of remaining nan values."
      ]
    },
    {
      "cell_type": "code",
      "metadata": {
        "id": "mr0GLVNFJ3s9",
        "colab_type": "code",
        "outputId": "7e0f915b-f829-4ef7-ac3e-063dcf121727",
        "colab": {
          "base_uri": "https://localhost:8080/",
          "height": 295
        }
      },
      "source": [
        "flipkart_products[\"product_specifications\"].fillna(flipkart_products[\"product_specifications\"].value_counts().index[0],inplace=True)\n",
        "flipkart_products.isna().sum()"
      ],
      "execution_count": 0,
      "outputs": [
        {
          "output_type": "execute_result",
          "data": {
            "text/plain": [
              "uniq_id                    0\n",
              "crawl_timestamp            0\n",
              "product_url                0\n",
              "product_name               0\n",
              "product_category_tree      0\n",
              "pid                        0\n",
              "retail_price               0\n",
              "discounted_price           0\n",
              "image                      0\n",
              "is_FK_Advantage_product    0\n",
              "description                0\n",
              "product_rating             0\n",
              "overall_rating             0\n",
              "brand                      0\n",
              "product_specifications     0\n",
              "dtype: int64"
            ]
          },
          "metadata": {
            "tags": []
          },
          "execution_count": 21
        }
      ]
    },
    {
      "cell_type": "markdown",
      "metadata": {
        "id": "EabKKUxJaoVO",
        "colab_type": "text"
      },
      "source": [
        "as we got no nan values present in any column we now confirm that our data is cleaned.\n"
      ]
    },
    {
      "cell_type": "code",
      "metadata": {
        "id": "-XHDFNUtKIPH",
        "colab_type": "code",
        "outputId": "febc42cf-4833-441c-910d-83e2fe4239b3",
        "colab": {
          "base_uri": "https://localhost:8080/",
          "height": 280
        }
      },
      "source": [
        "flipkart_products.info"
      ],
      "execution_count": 0,
      "outputs": [
        {
          "output_type": "execute_result",
          "data": {
            "text/plain": [
              "<bound method DataFrame.info of                                 uniq_id  ...                             product_specifications\n",
              "0      c2d766ca982eca8304150849735ffef9  ...  {\"product_specification\"=>[{\"key\"=>\"Number of ...\n",
              "1      7f7036a6d550aaa89d34c77bd39a5e48  ...  {\"product_specification\"=>[{\"key\"=>\"Installati...\n",
              "2      f449ec65dcbc041b6ae5e6a32717d01b  ...  {\"product_specification\"=>[{\"key\"=>\"Ideal For\"...\n",
              "3      0973b37acd0c664e3de26e97e5571454  ...  {\"product_specification\"=>[{\"key\"=>\"Number of ...\n",
              "4      bc940ea42ee6bef5ac7cea3fb5cfbee7  ...  {\"product_specification\"=>[{\"key\"=>\"Pet Type\",...\n",
              "...                                 ...  ...                                                ...\n",
              "19995  7179d2f6c4ad50a17d014ca1d2815156  ...  {\"product_specification\"=>[{\"key\"=>\"Number of ...\n",
              "19996  71ac419198359d37b8fe5e3fffdfee09  ...  {\"product_specification\"=>[{\"key\"=>\"Number of ...\n",
              "19997  93e9d343837400ce0d7980874ece471c  ...  {\"product_specification\"=>[{\"key\"=>\"Number of ...\n",
              "19998  669e79b8fa5d9ae020841c0c97d5e935  ...  {\"product_specification\"=>[{\"key\"=>\"Number of ...\n",
              "19999  cb4fa87a874f715fff567f7b7b3be79c  ...  {\"product_specification\"=>[{\"key\"=>\"Number of ...\n",
              "\n",
              "[20000 rows x 15 columns]>"
            ]
          },
          "metadata": {
            "tags": []
          },
          "execution_count": 22
        }
      ]
    },
    {
      "cell_type": "code",
      "metadata": {
        "id": "Qd29UvJiKSiE",
        "colab_type": "code",
        "outputId": "dd5f039d-d098-44ba-e2bc-b068bd120d4e",
        "colab": {
          "base_uri": "https://localhost:8080/",
          "height": 955
        }
      },
      "source": [
        "flipkart_products"
      ],
      "execution_count": 0,
      "outputs": [
        {
          "output_type": "execute_result",
          "data": {
            "text/html": [
              "<div>\n",
              "<style scoped>\n",
              "    .dataframe tbody tr th:only-of-type {\n",
              "        vertical-align: middle;\n",
              "    }\n",
              "\n",
              "    .dataframe tbody tr th {\n",
              "        vertical-align: top;\n",
              "    }\n",
              "\n",
              "    .dataframe thead th {\n",
              "        text-align: right;\n",
              "    }\n",
              "</style>\n",
              "<table border=\"1\" class=\"dataframe\">\n",
              "  <thead>\n",
              "    <tr style=\"text-align: right;\">\n",
              "      <th></th>\n",
              "      <th>uniq_id</th>\n",
              "      <th>crawl_timestamp</th>\n",
              "      <th>product_url</th>\n",
              "      <th>product_name</th>\n",
              "      <th>product_category_tree</th>\n",
              "      <th>pid</th>\n",
              "      <th>retail_price</th>\n",
              "      <th>discounted_price</th>\n",
              "      <th>image</th>\n",
              "      <th>is_FK_Advantage_product</th>\n",
              "      <th>description</th>\n",
              "      <th>product_rating</th>\n",
              "      <th>overall_rating</th>\n",
              "      <th>brand</th>\n",
              "      <th>product_specifications</th>\n",
              "    </tr>\n",
              "  </thead>\n",
              "  <tbody>\n",
              "    <tr>\n",
              "      <th>0</th>\n",
              "      <td>c2d766ca982eca8304150849735ffef9</td>\n",
              "      <td>2016-03-25 22:59:23 +0000</td>\n",
              "      <td>http://www.flipkart.com/alisha-solid-women-s-c...</td>\n",
              "      <td>Alisha Solid Women's Cycling Shorts</td>\n",
              "      <td>[\"Clothing &gt;&gt; Women's Clothing &gt;&gt; Lingerie, Sl...</td>\n",
              "      <td>SRTEH2FF9KEDEFGF</td>\n",
              "      <td>999.0</td>\n",
              "      <td>379.0</td>\n",
              "      <td>[\"http://img5a.flixcart.com/image/short/u/4/a/...</td>\n",
              "      <td>False</td>\n",
              "      <td>Key Features of Alisha Solid Women's Cycling S...</td>\n",
              "      <td>No rating available</td>\n",
              "      <td>No rating available</td>\n",
              "      <td>Alisha</td>\n",
              "      <td>{\"product_specification\"=&gt;[{\"key\"=&gt;\"Number of ...</td>\n",
              "    </tr>\n",
              "    <tr>\n",
              "      <th>1</th>\n",
              "      <td>7f7036a6d550aaa89d34c77bd39a5e48</td>\n",
              "      <td>2016-03-25 22:59:23 +0000</td>\n",
              "      <td>http://www.flipkart.com/fabhomedecor-fabric-do...</td>\n",
              "      <td>FabHomeDecor Fabric Double Sofa Bed</td>\n",
              "      <td>[\"Furniture &gt;&gt; Living Room Furniture &gt;&gt; Sofa B...</td>\n",
              "      <td>SBEEH3QGU7MFYJFY</td>\n",
              "      <td>32157.0</td>\n",
              "      <td>22646.0</td>\n",
              "      <td>[\"http://img6a.flixcart.com/image/sofa-bed/j/f...</td>\n",
              "      <td>False</td>\n",
              "      <td>FabHomeDecor Fabric Double Sofa Bed (Finish Co...</td>\n",
              "      <td>No rating available</td>\n",
              "      <td>No rating available</td>\n",
              "      <td>FabHomeDecor</td>\n",
              "      <td>{\"product_specification\"=&gt;[{\"key\"=&gt;\"Installati...</td>\n",
              "    </tr>\n",
              "    <tr>\n",
              "      <th>2</th>\n",
              "      <td>f449ec65dcbc041b6ae5e6a32717d01b</td>\n",
              "      <td>2016-03-25 22:59:23 +0000</td>\n",
              "      <td>http://www.flipkart.com/aw-bellies/p/itmeh4grg...</td>\n",
              "      <td>AW Bellies</td>\n",
              "      <td>[\"Footwear &gt;&gt; Women's Footwear &gt;&gt; Ballerinas &gt;...</td>\n",
              "      <td>SHOEH4GRSUBJGZXE</td>\n",
              "      <td>999.0</td>\n",
              "      <td>499.0</td>\n",
              "      <td>[\"http://img5a.flixcart.com/image/shoe/7/z/z/r...</td>\n",
              "      <td>False</td>\n",
              "      <td>Key Features of AW Bellies Sandals Wedges Heel...</td>\n",
              "      <td>No rating available</td>\n",
              "      <td>No rating available</td>\n",
              "      <td>AW</td>\n",
              "      <td>{\"product_specification\"=&gt;[{\"key\"=&gt;\"Ideal For\"...</td>\n",
              "    </tr>\n",
              "    <tr>\n",
              "      <th>3</th>\n",
              "      <td>0973b37acd0c664e3de26e97e5571454</td>\n",
              "      <td>2016-03-25 22:59:23 +0000</td>\n",
              "      <td>http://www.flipkart.com/alisha-solid-women-s-c...</td>\n",
              "      <td>Alisha Solid Women's Cycling Shorts</td>\n",
              "      <td>[\"Clothing &gt;&gt; Women's Clothing &gt;&gt; Lingerie, Sl...</td>\n",
              "      <td>SRTEH2F6HUZMQ6SJ</td>\n",
              "      <td>699.0</td>\n",
              "      <td>267.0</td>\n",
              "      <td>[\"http://img5a.flixcart.com/image/short/6/2/h/...</td>\n",
              "      <td>False</td>\n",
              "      <td>Key Features of Alisha Solid Women's Cycling S...</td>\n",
              "      <td>No rating available</td>\n",
              "      <td>No rating available</td>\n",
              "      <td>Alisha</td>\n",
              "      <td>{\"product_specification\"=&gt;[{\"key\"=&gt;\"Number of ...</td>\n",
              "    </tr>\n",
              "    <tr>\n",
              "      <th>4</th>\n",
              "      <td>bc940ea42ee6bef5ac7cea3fb5cfbee7</td>\n",
              "      <td>2016-03-25 22:59:23 +0000</td>\n",
              "      <td>http://www.flipkart.com/sicons-all-purpose-arn...</td>\n",
              "      <td>Sicons All Purpose Arnica Dog Shampoo</td>\n",
              "      <td>[\"Pet Supplies &gt;&gt; Grooming &gt;&gt; Skin &amp; Coat Care...</td>\n",
              "      <td>PSOEH3ZYDMSYARJ5</td>\n",
              "      <td>220.0</td>\n",
              "      <td>210.0</td>\n",
              "      <td>[\"http://img5a.flixcart.com/image/pet-shampoo/...</td>\n",
              "      <td>False</td>\n",
              "      <td>Specifications of Sicons All Purpose Arnica Do...</td>\n",
              "      <td>No rating available</td>\n",
              "      <td>No rating available</td>\n",
              "      <td>Sicons</td>\n",
              "      <td>{\"product_specification\"=&gt;[{\"key\"=&gt;\"Pet Type\",...</td>\n",
              "    </tr>\n",
              "    <tr>\n",
              "      <th>...</th>\n",
              "      <td>...</td>\n",
              "      <td>...</td>\n",
              "      <td>...</td>\n",
              "      <td>...</td>\n",
              "      <td>...</td>\n",
              "      <td>...</td>\n",
              "      <td>...</td>\n",
              "      <td>...</td>\n",
              "      <td>...</td>\n",
              "      <td>...</td>\n",
              "      <td>...</td>\n",
              "      <td>...</td>\n",
              "      <td>...</td>\n",
              "      <td>...</td>\n",
              "      <td>...</td>\n",
              "    </tr>\n",
              "    <tr>\n",
              "      <th>19995</th>\n",
              "      <td>7179d2f6c4ad50a17d014ca1d2815156</td>\n",
              "      <td>2015-12-01 10:15:43 +0000</td>\n",
              "      <td>http://www.flipkart.com/walldesign-small-vinyl...</td>\n",
              "      <td>WallDesign Small Vinyl Sticker</td>\n",
              "      <td>[\"Baby Care &gt;&gt; Baby &amp; Kids Gifts &gt;&gt; Stickers &gt;...</td>\n",
              "      <td>STIE7KFJAKSTDY9G</td>\n",
              "      <td>1500.0</td>\n",
              "      <td>730.0</td>\n",
              "      <td>[\"http://img6a.flixcart.com/image/wall-decorat...</td>\n",
              "      <td>False</td>\n",
              "      <td>Buy WallDesign Small Vinyl Sticker for Rs.730 ...</td>\n",
              "      <td>No rating available</td>\n",
              "      <td>No rating available</td>\n",
              "      <td>WallDesign</td>\n",
              "      <td>{\"product_specification\"=&gt;[{\"key\"=&gt;\"Number of ...</td>\n",
              "    </tr>\n",
              "    <tr>\n",
              "      <th>19996</th>\n",
              "      <td>71ac419198359d37b8fe5e3fffdfee09</td>\n",
              "      <td>2015-12-01 10:15:43 +0000</td>\n",
              "      <td>http://www.flipkart.com/wallmantra-large-vinyl...</td>\n",
              "      <td>Wallmantra Large Vinyl Stickers Sticker</td>\n",
              "      <td>[\"Baby Care &gt;&gt; Baby &amp; Kids Gifts &gt;&gt; Stickers &gt;...</td>\n",
              "      <td>STIE9F5URNQGJCGH</td>\n",
              "      <td>1429.0</td>\n",
              "      <td>1143.0</td>\n",
              "      <td>[\"http://img6a.flixcart.com/image/sticker/z/g/...</td>\n",
              "      <td>False</td>\n",
              "      <td>Buy Wallmantra Large Vinyl Stickers Sticker fo...</td>\n",
              "      <td>No rating available</td>\n",
              "      <td>No rating available</td>\n",
              "      <td>Wallmantra</td>\n",
              "      <td>{\"product_specification\"=&gt;[{\"key\"=&gt;\"Number of ...</td>\n",
              "    </tr>\n",
              "    <tr>\n",
              "      <th>19997</th>\n",
              "      <td>93e9d343837400ce0d7980874ece471c</td>\n",
              "      <td>2015-12-01 10:15:43 +0000</td>\n",
              "      <td>http://www.flipkart.com/elite-collection-mediu...</td>\n",
              "      <td>Elite Collection Medium Acrylic Sticker</td>\n",
              "      <td>[\"Baby Care &gt;&gt; Baby &amp; Kids Gifts &gt;&gt; Stickers &gt;...</td>\n",
              "      <td>STIE7VAYDKQZEBSD</td>\n",
              "      <td>1299.0</td>\n",
              "      <td>999.0</td>\n",
              "      <td>[\"http://img5a.flixcart.com/image/sticker/b/s/...</td>\n",
              "      <td>False</td>\n",
              "      <td>Buy Elite Collection Medium Acrylic Sticker fo...</td>\n",
              "      <td>No rating available</td>\n",
              "      <td>No rating available</td>\n",
              "      <td>Elite Collection</td>\n",
              "      <td>{\"product_specification\"=&gt;[{\"key\"=&gt;\"Number of ...</td>\n",
              "    </tr>\n",
              "    <tr>\n",
              "      <th>19998</th>\n",
              "      <td>669e79b8fa5d9ae020841c0c97d5e935</td>\n",
              "      <td>2015-12-01 10:15:43 +0000</td>\n",
              "      <td>http://www.flipkart.com/elite-collection-mediu...</td>\n",
              "      <td>Elite Collection Medium Acrylic Sticker</td>\n",
              "      <td>[\"Baby Care &gt;&gt; Baby &amp; Kids Gifts &gt;&gt; Stickers &gt;...</td>\n",
              "      <td>STIE8YSVEPPCZ42Y</td>\n",
              "      <td>1499.0</td>\n",
              "      <td>1199.0</td>\n",
              "      <td>[\"http://img5a.flixcart.com/image/sticker/4/2/...</td>\n",
              "      <td>False</td>\n",
              "      <td>Buy Elite Collection Medium Acrylic Sticker fo...</td>\n",
              "      <td>No rating available</td>\n",
              "      <td>No rating available</td>\n",
              "      <td>Elite Collection</td>\n",
              "      <td>{\"product_specification\"=&gt;[{\"key\"=&gt;\"Number of ...</td>\n",
              "    </tr>\n",
              "    <tr>\n",
              "      <th>19999</th>\n",
              "      <td>cb4fa87a874f715fff567f7b7b3be79c</td>\n",
              "      <td>2015-12-01 10:15:43 +0000</td>\n",
              "      <td>http://www.flipkart.com/elite-collection-mediu...</td>\n",
              "      <td>Elite Collection Medium Acrylic Sticker</td>\n",
              "      <td>[\"Baby Care &gt;&gt; Baby &amp; Kids Gifts &gt;&gt; Stickers &gt;...</td>\n",
              "      <td>STIE88KN9ZDSGZKY</td>\n",
              "      <td>1499.0</td>\n",
              "      <td>999.0</td>\n",
              "      <td>[\"http://img6a.flixcart.com/image/sticker/z/k/...</td>\n",
              "      <td>False</td>\n",
              "      <td>Buy Elite Collection Medium Acrylic Sticker fo...</td>\n",
              "      <td>No rating available</td>\n",
              "      <td>No rating available</td>\n",
              "      <td>Elite Collection</td>\n",
              "      <td>{\"product_specification\"=&gt;[{\"key\"=&gt;\"Number of ...</td>\n",
              "    </tr>\n",
              "  </tbody>\n",
              "</table>\n",
              "<p>20000 rows × 15 columns</p>\n",
              "</div>"
            ],
            "text/plain": [
              "                                uniq_id  ...                             product_specifications\n",
              "0      c2d766ca982eca8304150849735ffef9  ...  {\"product_specification\"=>[{\"key\"=>\"Number of ...\n",
              "1      7f7036a6d550aaa89d34c77bd39a5e48  ...  {\"product_specification\"=>[{\"key\"=>\"Installati...\n",
              "2      f449ec65dcbc041b6ae5e6a32717d01b  ...  {\"product_specification\"=>[{\"key\"=>\"Ideal For\"...\n",
              "3      0973b37acd0c664e3de26e97e5571454  ...  {\"product_specification\"=>[{\"key\"=>\"Number of ...\n",
              "4      bc940ea42ee6bef5ac7cea3fb5cfbee7  ...  {\"product_specification\"=>[{\"key\"=>\"Pet Type\",...\n",
              "...                                 ...  ...                                                ...\n",
              "19995  7179d2f6c4ad50a17d014ca1d2815156  ...  {\"product_specification\"=>[{\"key\"=>\"Number of ...\n",
              "19996  71ac419198359d37b8fe5e3fffdfee09  ...  {\"product_specification\"=>[{\"key\"=>\"Number of ...\n",
              "19997  93e9d343837400ce0d7980874ece471c  ...  {\"product_specification\"=>[{\"key\"=>\"Number of ...\n",
              "19998  669e79b8fa5d9ae020841c0c97d5e935  ...  {\"product_specification\"=>[{\"key\"=>\"Number of ...\n",
              "19999  cb4fa87a874f715fff567f7b7b3be79c  ...  {\"product_specification\"=>[{\"key\"=>\"Number of ...\n",
              "\n",
              "[20000 rows x 15 columns]"
            ]
          },
          "metadata": {
            "tags": []
          },
          "execution_count": 23
        }
      ]
    },
    {
      "cell_type": "code",
      "metadata": {
        "id": "QnuOQeFfKqvA",
        "colab_type": "code",
        "outputId": "4ddd3c53-2cf9-453a-c04f-46c8b41e9c3a",
        "colab": {
          "base_uri": "https://localhost:8080/",
          "height": 295
        }
      },
      "source": [
        "flipkart_products.dtypes"
      ],
      "execution_count": 0,
      "outputs": [
        {
          "output_type": "execute_result",
          "data": {
            "text/plain": [
              "uniq_id                     object\n",
              "crawl_timestamp             object\n",
              "product_url                 object\n",
              "product_name                object\n",
              "product_category_tree       object\n",
              "pid                         object\n",
              "retail_price               float64\n",
              "discounted_price           float64\n",
              "image                       object\n",
              "is_FK_Advantage_product       bool\n",
              "description                 object\n",
              "product_rating              object\n",
              "overall_rating              object\n",
              "brand                       object\n",
              "product_specifications      object\n",
              "dtype: object"
            ]
          },
          "metadata": {
            "tags": []
          },
          "execution_count": 26
        }
      ]
    },
    {
      "cell_type": "markdown",
      "metadata": {
        "id": "OisTIAVlYXQa",
        "colab_type": "text"
      },
      "source": [
        "# **correlating the data**"
      ]
    },
    {
      "cell_type": "code",
      "metadata": {
        "id": "igFP7SwGLD0x",
        "colab_type": "code",
        "colab": {
          "base_uri": "https://localhost:8080/",
          "height": 296
        },
        "outputId": "ee832dc7-a43f-481b-968c-2bd2afc40fa8"
      },
      "source": [
        "plt.scatter(flipkart_products[\"retail_price\"],flipkart_products[\"discounted_price\"],c=\"blue\")\n",
        "plt.title(\"scatter plot of retail_price vs discounted_price\")\n",
        "plt.xlabel(\"retai_price\")\n",
        "plt.ylabel(\"disounted_price\")\n",
        "plt.show()"
      ],
      "execution_count": 19,
      "outputs": [
        {
          "output_type": "display_data",
          "data": {
            "image/png": "[encoded data removed]",
            "text/plain": [
              "<Figure size 432x288 with 1 Axes>"
            ]
          },
          "metadata": {
            "tags": []
          }
        }
      ]
    },
    {
      "cell_type": "markdown",
      "metadata": {
        "id": "eKnLN_N5gnP4",
        "colab_type": "text"
      },
      "source": [
        "as we can plot scatter plot for only for two numerical data so we drawn the scatter plot of retai_price and discounted_price.from the graph we can say that itr has one outlier"
      ]
    },
    {
      "cell_type": "markdown",
      "metadata": {
        "id": "LPiB-YnZ4iAD",
        "colab_type": "text"
      },
      "source": [
        ""
      ]
    },
    {
      "cell_type": "markdown",
      "metadata": {
        "id": "8rDoc39YlWlt",
        "colab_type": "text"
      },
      "source": [
        "now draw the bar graph between boolean value of the products and their frequency\n"
      ]
    },
    {
      "cell_type": "code",
      "metadata": {
        "id": "GCCLpOQiiByn",
        "colab_type": "code",
        "colab": {
          "base_uri": "https://localhost:8080/",
          "height": 69
        },
        "outputId": "60de4aaf-6985-4cb2-f339-65a0e981b049"
      },
      "source": [
        "flipkart_products[\"is_FK_Advantage_product\"].value_counts()"
      ],
      "execution_count": 18,
      "outputs": [
        {
          "output_type": "execute_result",
          "data": {
            "text/plain": [
              "False    19215\n",
              "True       785\n",
              "Name: is_FK_Advantage_product, dtype: int64"
            ]
          },
          "metadata": {
            "tags": []
          },
          "execution_count": 18
        }
      ]
    },
    {
      "cell_type": "code",
      "metadata": {
        "id": "xJMPTXmlmTkR",
        "colab_type": "code",
        "colab": {
          "base_uri": "https://localhost:8080/",
          "height": 311
        },
        "outputId": "cd49cf4d-08b2-426d-f5fd-b2061749b194"
      },
      "source": [
        "counts=[19215,785]\n",
        "is_FK_Advantage_product=(\"False\",\"True\")\n",
        "index=np.arange(len(is_FK_Advantage_product))\n",
        "plt.bar(index,counts,color=[\"blue\",\"green\"])\n",
        "plt.title(\"bar plot of boolean value of products\")\n",
        "plt.xlabel(\"boolean values\")\n",
        "plt.ylabel(\"frequency\")\n",
        "plt.xticks(index,is_FK_Advantage_product,rotation=90)\n",
        "plt.show()\n"
      ],
      "execution_count": 21,
      "outputs": [
        {
          "output_type": "display_data",
          "data": {
            "image/png": "[encoded data removed]",
            "text/plain": [
              "<Figure size 432x288 with 1 Axes>"
            ]
          },
          "metadata": {
            "tags": []
          }
        }
      ]
    },
    {
      "cell_type": "markdown",
      "metadata": {
        "id": "uOJZXIx82VlL",
        "colab_type": "text"
      },
      "source": [
        "now plot the trend of retail_price and also discounted_price for this we draw histograms\n"
      ]
    },
    {
      "cell_type": "code",
      "metadata": {
        "id": "OvmjENjUoTTh",
        "colab_type": "code",
        "colab": {
          "base_uri": "https://localhost:8080/",
          "height": 385
        },
        "outputId": "b48b3233-50c9-4f3e-e260-9e962704bafe"
      },
      "source": [
        "plt.hist(flipkart_products[\"retail_price\"],color=\"blue\",edgecolor=\"green\",bins=50)\n",
        "plt.title(\"histogram of retail_price\")\n",
        "plt.xlabel(\"retail_price\")\n",
        "plt.ylabel(\"frequency\")\n",
        "plt.show()"
      ],
      "execution_count": 27,
      "outputs": [
        {
          "output_type": "stream",
          "text": [
            "/usr/local/lib/python3.6/dist-packages/numpy/lib/histograms.py:839: RuntimeWarning: invalid value encountered in greater_equal\n",
            "  keep = (tmp_a >= first_edge)\n",
            "/usr/local/lib/python3.6/dist-packages/numpy/lib/histograms.py:840: RuntimeWarning: invalid value encountered in less_equal\n",
            "  keep &= (tmp_a <= last_edge)\n"
          ],
          "name": "stderr"
        },
        {
          "output_type": "display_data",
          "data": {
            "image/png": "[encoded data removed]",
            "text/plain": [
              "<Figure size 432x288 with 1 Axes>"
            ]
          },
          "metadata": {
            "tags": []
          }
        }
      ]
    },
    {
      "cell_type": "markdown",
      "metadata": {
        "id": "EHnGuxVYYhBH",
        "colab_type": "text"
      },
      "source": [
        "# **answers**"
      ]
    },
    {
      "cell_type": "markdown",
      "metadata": {
        "id": "9JHIZ0h0BQVP",
        "colab_type": "text"
      },
      "source": [
        "**Answers**\n",
        "\n",
        "\n",
        "1.datatypes of columns are:                    \n",
        "*   uniq_id:object\n",
        "*   crawl_timestamp  :           object\n",
        "*    product_url     :            object\n",
        "*    product_name     :           object\n",
        "*    product_category_tree :      object\n",
        "\n",
        "*    pid                    :     object\n",
        "*    retail_price            :   float64\n",
        "*    discounted_price         :  float64\n",
        "*    image                     :  object\n",
        "*    is_FK_Advantage_product    :   bool\n",
        "*    description                 :object\n",
        "*    product_rating        :      object\n",
        "*    overall_rating         :     object\n",
        "*   brand                    :   object\n",
        "*product_specifications      :object\n",
        "2.   Variance of retail_price is 81173601.05489491 and variance of discounted_price is 538148.4780828817\n",
        "\n",
        "3.   Yes,\n",
        "  *   retail_price          :       78\n",
        "  *   discounted_price: 78\n",
        "  *   image: 3\n",
        "  *   description: 2\n",
        "  *   brand :5864\n",
        "  *   product_specificatrion:14\n",
        "4.   Nan values of numerical data are replaced by mean or median here i replaced with mean,categorical data Nan values are replaced with mode of the data.\n",
        "5.   One outlier was found in the scatter plot.\n",
        "6.   In the scatter plot the two variables named retail_priceand discounted_price are directly proportional\n",
        "7.   The boolean histogram is negatively skewed.\n",
        "8.   According to bar graph that we plot, we can say it is false.\n",
        "\n",
        "\n",
        "\n",
        "\n",
        "\n",
        "\n",
        "\n",
        "\n",
        "\n"
      ]
    },
    {
      "cell_type": "markdown",
      "metadata": {
        "id": "PuKffxVhIBIT",
        "colab_type": "text"
      },
      "source": [
        "# **team name**:Abhinav Dayal Army*\n"
      ]
    },
    {
      "cell_type": "markdown",
      "metadata": {
        "id": "PW8beWJTXiyT",
        "colab_type": "text"
      },
      "source": [
        "## **team members**"
      ]
    },
    {
      "cell_type": "markdown",
      "metadata": {
        "id": "sQEXULqZIcKl",
        "colab_type": "text"
      },
      "source": [
        "team members:\n",
        "   \n",
        "\n",
        "1.   sadhik-19pa1a05c7\n",
        "2.   siva-19pa1a0586\n",
        "3.   jagadeesh-19pa1a05c3\n",
        "4.   murali-19pa1a0594\n",
        "\n",
        "\n",
        "\n",
        "\n"
      ]
    }
  ]
}